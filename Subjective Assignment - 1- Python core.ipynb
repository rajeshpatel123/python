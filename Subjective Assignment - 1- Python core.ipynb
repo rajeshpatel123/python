{
 "cells": [
  {
   "cell_type": "markdown",
   "metadata": {},
   "source": [
    "Q1. Write a Python program to get the string from the given string where\n",
    "all the occurrence of its first char has been changed to '$,' except first\n",
    "char itself?\n",
    "\n",
    "    Sample String: 'prospect'\n",
    "    Expected Result : 'pros$ect'\n"
   ]
  },
  {
   "cell_type": "code",
   "execution_count": 32,
   "metadata": {},
   "outputs": [
    {
     "name": "stdout",
     "output_type": "stream",
     "text": [
      "pros$ect\n"
     ]
    }
   ],
   "source": [
    "s = 'prospect'\n",
    "print(\"\".join((s[0], s[1:].replace(s[0], \"$\"))))"
   ]
  },
  {
   "cell_type": "markdown",
   "metadata": {},
   "source": [
    "Q2. Write a Python program to get the single string from the two given\n",
    "strings, and separated by the space and swap the first two characters of\n",
    "each string?\n",
    "\n",
    "    Sample String : 'abc', 'xyz'.\n",
    "    Expected Result: 'xyc abz'"
   ]
  },
  {
   "cell_type": "code",
   "execution_count": 8,
   "metadata": {
    "scrolled": true
   },
   "outputs": [
    {
     "name": "stdout",
     "output_type": "stream",
     "text": [
      "xyc abz\n"
     ]
    }
   ],
   "source": [
    "str1 = 'abc'\n",
    "str2 = 'xyz'\n",
    "new_str1 = str1[0:2] + str2[2]\n",
    "new_str2 = str2[0:2] + str1[2]\n",
    "print('{} {}'.format(new_str2, new_str1))"
   ]
  },
  {
   "cell_type": "markdown",
   "metadata": {},
   "source": [
    "Q3. Write the Python program to add 'ing' at the end of the given string\n",
    "(length of the string should be at least 3). If given string already ends\n",
    "with 'ing,' then add 'ly' instead. If string length of the given string is less\n",
    "than 3, leave it unchanged?\n",
    "\n",
    "\n",
    "    Sample string: ' abc '\n",
    "    Expected result: ' abcing '\n",
    "    Sample string: ' string '\n",
    "    Expected result: ' stringly '\n"
   ]
  },
  {
   "cell_type": "code",
   "execution_count": 23,
   "metadata": {},
   "outputs": [
    {
     "name": "stdout",
     "output_type": "stream",
     "text": [
      "fasting\n"
     ]
    }
   ],
   "source": [
    "str = 'fast'\n",
    "if len(str) <= 3:\n",
    "    print('Please enter string more than 3 characters')\n",
    "elif str[-3:] == 'ing':\n",
    "    print(str.replace(str[-3:], 'ly'))\n",
    "else:\n",
    "    print(str + 'ing')\n"
   ]
  },
  {
   "cell_type": "markdown",
   "metadata": {},
   "source": [
    "Q4. Write the Python program to find the first appearance of the\n",
    "substring 'not' and 'poor' from the given string, if 'not' follows the 'poor',\n",
    "replace the whole 'not'...' poor' substring with 'good'.Return the resulting\n",
    "string.\n",
    "\n",
    "    Sample string: 'The lyrics are not that poor!'\n",
    "    'The lyrics are poor!'\n",
    "    Expected Result: 'The lyrics are good!'\n",
    "    'The lyrics are poor!'"
   ]
  },
  {
   "cell_type": "code",
   "execution_count": 52,
   "metadata": {},
   "outputs": [
    {
     "name": "stdout",
     "output_type": "stream",
     "text": [
      "The lyrics are good!\n"
     ]
    }
   ],
   "source": [
    "string = 'The lyrics are not that poor!'\n",
    "not_index = string.find('not')\n",
    "poor_index = string.find('poor')\n",
    "\n",
    "if not_index != -1 and poor_index != -1 :\n",
    "    if not_index < poor_index:\n",
    "        print(string.replace(string[not_index:poor_index+4], 'good'))\n",
    "else:\n",
    "    print(string)\n"
   ]
  },
  {
   "cell_type": "markdown",
   "metadata": {},
   "source": [
    "Q5. Write the Python program to remove the characters which have odd\n",
    "index values of a given string."
   ]
  },
  {
   "cell_type": "code",
   "execution_count": 68,
   "metadata": {},
   "outputs": [
    {
     "name": "stdout",
     "output_type": "stream",
     "text": [
      "h yisaentta or\n"
     ]
    }
   ],
   "source": [
    "string = 'The lyrics are not that poor!'\n",
    "str_len = len(string)\n",
    "new_str = ''\n",
    "for i in range(1, str_len):\n",
    "    if i%2 == 0:\n",
    "        new_str = new_str + string[i-1]\n",
    "print(new_str)        "
   ]
  },
  {
   "cell_type": "markdown",
   "metadata": {},
   "source": [
    "Q6. Write the python program to print the following floating numbers up\n",
    "to 2 decimal places?"
   ]
  },
  {
   "cell_type": "code",
   "execution_count": 95,
   "metadata": {},
   "outputs": [
    {
     "name": "stdout",
     "output_type": "stream",
     "text": [
      "Round to 2 decumals : 3.12\n",
      "3.12\n"
     ]
    }
   ],
   "source": [
    "num1 = 3.123434\n",
    "num2 = 2.3333\n",
    "print('Round to 2 decumals : {:.2f}'.format(num1))\n",
    "print('%.2f' %num1)"
   ]
  },
  {
   "cell_type": "markdown",
   "metadata": {},
   "source": [
    "Q7. Write the Python program to format a number with a percentage?"
   ]
  },
  {
   "cell_type": "code",
   "execution_count": 102,
   "metadata": {},
   "outputs": [
    {
     "name": "stdout",
     "output_type": "stream",
     "text": [
      "24.30%\n"
     ]
    }
   ],
   "source": [
    "num = 0.243\n",
    "print('{:.2%}'.format(num))"
   ]
  },
  {
   "cell_type": "markdown",
   "metadata": {},
   "source": [
    "Q8. Write the Python program to count occurrences of a substring in a\n",
    "String?"
   ]
  },
  {
   "cell_type": "code",
   "execution_count": 104,
   "metadata": {
    "scrolled": true
   },
   "outputs": [
    {
     "data": {
      "text/plain": [
       "2"
      ]
     },
     "execution_count": 104,
     "metadata": {},
     "output_type": "execute_result"
    }
   ],
   "source": [
    "string = 'The quick brown jumps quick'\n",
    "string.count('quick')"
   ]
  },
  {
   "cell_type": "markdown",
   "metadata": {},
   "source": [
    "Q9. Write the Python program to count repeated characters in a string.\n",
    "\n",
    "    Sample string: ' thequickbrownjumpsoverthelazydog '\n",
    "    \n",
    "    Expected output:\n",
    "    o 3\n",
    "    e 3\n",
    "    u 2\n",
    "    h 2\n",
    "    r 2\n",
    "    t 2"
   ]
  },
  {
   "cell_type": "code",
   "execution_count": 138,
   "metadata": {},
   "outputs": [
    {
     "name": "stdout",
     "output_type": "stream",
     "text": [
      "t : 2\n",
      "h : 2\n",
      "e : 3\n",
      "u : 2\n",
      "r : 2\n",
      "o : 3\n"
     ]
    }
   ],
   "source": [
    "str1 = 'thequickbrownjumpsoverthelazydog'\n",
    "dict = {}\n",
    "len_str = len(str1)\n",
    "for i in range(0, len_str):\n",
    "    str_count = str1.count(str1[i])\n",
    "    dict[str1[i]]= str_count \n",
    "\n",
    "for char, dict_count in dict.items():\n",
    "    if dict_count > 1:\n",
    "        print('{} : {}'.format(char, dict_count))\n"
   ]
  },
  {
   "cell_type": "markdown",
   "metadata": {},
   "source": [
    "Q10. Write the Python program to print the square and cube symbol in\n",
    "the area of a rectangle and volume of a cylinder?\n",
    "\n",
    "    Sample outputThe area of the rectangle is 1256.66cm2\n",
    "    The volume of the cylinder is 1254.725cm3\n"
   ]
  },
  {
   "cell_type": "code",
   "execution_count": 143,
   "metadata": {},
   "outputs": [
    {
     "name": "stdout",
     "output_type": "stream",
     "text": [
      "The are of the rectangle is 1256.66cm²\n",
      "The are of the rectangle is 1254.725cm³\n"
     ]
    }
   ],
   "source": [
    "num = 1256.66\n",
    "num1 = 1254.725\n",
    "print('The are of the rectangle is {}cm\\u00b2'.format(num))\n",
    "print('The are of the rectangle is {}cm\\u00b3'.format(num1))"
   ]
  },
  {
   "cell_type": "markdown",
   "metadata": {},
   "source": [
    "Q11. Write the Python program to check if a string contains all letters of\n",
    "the alphabet?"
   ]
  },
  {
   "cell_type": "code",
   "execution_count": 148,
   "metadata": {},
   "outputs": [
    {
     "data": {
      "text/plain": [
       "True"
      ]
     },
     "execution_count": 148,
     "metadata": {},
     "output_type": "execute_result"
    }
   ],
   "source": [
    "string = 'lyrics'\n",
    "string.isalpha()"
   ]
  },
  {
   "cell_type": "markdown",
   "metadata": {},
   "source": [
    "Q12. Write the Python program to find the second most repeated word\n",
    "in a given string?"
   ]
  },
  {
   "cell_type": "code",
   "execution_count": 186,
   "metadata": {},
   "outputs": [
    {
     "name": "stdout",
     "output_type": "stream",
     "text": [
      "second most repeated word y.\n"
     ]
    }
   ],
   "source": [
    "str1 = 'thequickbrownjumpsoverthelazydog'\n",
    "dict = {}\n",
    "len_str = len(str1)\n",
    "for i in range(0, len_str):\n",
    "    str_count = str1.count(str1[i])\n",
    "    dict[str1[i]]= str_count \n",
    "\n",
    "dict_sort = sorted (dict, reverse=True) \n",
    "print('second most repeated word {}.'.format(dict_sort[1]))\n",
    "#for char, dict_count in dict.items():\n",
    "#    if dict_count > 1:\n",
    "#        print('{} : {}'.format(char, dict_count))\n"
   ]
  },
  {
   "cell_type": "markdown",
   "metadata": {},
   "source": [
    "Q13. Write the Python program to find the minimum window in the given\n",
    "string, which will contains all the characters of another given\n",
    "strings?\n",
    "\n",
    "    Example 1\n",
    "    Input : string1 = \" PRWSOERIUSFK \"\n",
    "    string2 = \" OSU \"\n",
    "    Output: Minimum window is \"OERIUS\""
   ]
  },
  {
   "cell_type": "code",
   "execution_count": 169,
   "metadata": {},
   "outputs": [
    {
     "data": {
      "text/plain": [
       "'OERIUS'"
      ]
     },
     "execution_count": 169,
     "metadata": {},
     "output_type": "execute_result"
    }
   ],
   "source": [
    "string1 = 'PRWSOERIUSFK'\n",
    "string2 = 'OSU'\n",
    "st_index0 = string1.rfind(string2[0])\n",
    "st_index1 = string1.rfind(string2[1])\n",
    "st_index2 = string1.rfind(string2[2])\n",
    "\n",
    "max_index = max(st_index0, st_index1, st_index2)\n",
    "min_index = min(st_index0, st_index1, st_index2)\n",
    "\n",
    "string1[min_index:max_index+1]"
   ]
  },
  {
   "cell_type": "markdown",
   "metadata": {},
   "source": [
    "Q14. Write the Python program to count number of substrings from a\n",
    "given string of lowercase alphabets with exactly k distinct (given)\n",
    "characters?\n",
    "\n",
    "    Input a string (lowercase alphabets): wolf\n",
    "    Input k: 4\n",
    "    Number of substrings with exactly 4 distinct characters: 1"
   ]
  },
  {
   "cell_type": "code",
   "execution_count": 171,
   "metadata": {},
   "outputs": [
    {
     "data": {
      "text/plain": [
       "4"
      ]
     },
     "execution_count": 171,
     "metadata": {},
     "output_type": "execute_result"
    }
   ],
   "source": [
    "string1 = 'wolf'\n",
    "len(string1)"
   ]
  },
  {
   "cell_type": "markdown",
   "metadata": {},
   "source": [
    "Q15. Write the Python program to count number of substrings with same\n",
    "first and last characters of the given string?\n",
    "\n",
    "    Input a string: abcd\n",
    "    4\n"
   ]
  },
  {
   "cell_type": "code",
   "execution_count": null,
   "metadata": {},
   "outputs": [],
   "source": []
  },
  {
   "cell_type": "markdown",
   "metadata": {},
   "source": [
    "## Great Job!"
   ]
  }
 ],
 "metadata": {
  "kernelspec": {
   "display_name": "Python 3",
   "language": "python",
   "name": "python3"
  },
  "language_info": {
   "codemirror_mode": {
    "name": "ipython",
    "version": 3
   },
   "file_extension": ".py",
   "mimetype": "text/x-python",
   "name": "python",
   "nbconvert_exporter": "python",
   "pygments_lexer": "ipython3",
   "version": "3.7.6"
  }
 },
 "nbformat": 4,
 "nbformat_minor": 2
}
