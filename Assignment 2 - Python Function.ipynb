{
 "cells": [
  {
   "cell_type": "markdown",
   "metadata": {},
   "source": [
    "## Problem Statement"
   ]
  },
  {
   "cell_type": "markdown",
   "metadata": {},
   "source": [
    "Q.1 Write a Python Program to implement your own myreduce() function which works exactly like\n",
    "Python's built-in function reduce()\n"
   ]
  },
  {
   "cell_type": "code",
   "execution_count": 32,
   "metadata": {},
   "outputs": [
    {
     "name": "stdout",
     "output_type": "stream",
     "text": [
      "Output using myreduce Function : 24 \n",
      "Output using myreduce Function : 24 \n",
      "Output using reduce Function : 24\n"
     ]
    }
   ],
   "source": [
    "from functools import reduce\n",
    "\n",
    "def r(x,y):\n",
    "    return x+y\n",
    "\n",
    "def myreduce(func, l):\n",
    "    sum = 0\n",
    "    for i in l:\n",
    "        sum = func(sum, i)\n",
    "    return sum\n",
    "\n",
    "l = [2,3,4,5,6,4]\n",
    "\n",
    "print('Output using myreduce Function : {} '.format(myreduce(lambda x,y:x+y, l)))\n",
    "print('Output using myreduce Function : {} '.format(myreduce(r, l)))\n",
    "print('Output using reduce Function : {}'.format(reduce(lambda x,y:x+y, l)))\n",
    "\n"
   ]
  },
  {
   "cell_type": "markdown",
   "metadata": {},
   "source": [
    "Q.2 Write a Python program to implement your own myfilter() function which works exactly like\n",
    "Python's built-in function filter()"
   ]
  },
  {
   "cell_type": "code",
   "execution_count": 56,
   "metadata": {},
   "outputs": [
    {
     "name": "stdout",
     "output_type": "stream",
     "text": [
      "Output using myreduce Function : [2, 4, 6, 4] \n",
      "Output using myreduce Function : ['e', 'e'] \n"
     ]
    }
   ],
   "source": [
    "def fun(variable): \n",
    "    letters = ['a', 'e', 'i', 'o', 'u'] \n",
    "    if (variable in letters): \n",
    "        return True\n",
    "    else: \n",
    "        return False\n",
    "    \n",
    "def myfilter(func, l):\n",
    "    newlist = []\n",
    "    for i in l:\n",
    "        if func(i):            \n",
    "            newlist.append(i)\n",
    "    return newlist\n",
    "\n",
    "l = [2,3,4,5,6,4]\n",
    "sequence = ['g', 'e', 'e', 'j', 'k', 's', 'p', 'r'] \n",
    "\n",
    "print('Output using myreduce Function : {} '.format(myfilter(lambda x: x % 2==0 , l)))\n",
    "print('Output using myreduce Function : {} '.format(myfilter(fun, sequence)))"
   ]
  },
  {
   "cell_type": "markdown",
   "metadata": {},
   "source": [
    "Q.3 Implement List comprehensions to produce the following lists.\n",
    "   Write List comprehensions to produce the following Lists\n",
    "   \n",
    "    ['A', 'C', 'A', 'D', 'G', 'I', ’L’, ‘ D’]\n",
    "   \n",
    "    ['x', 'xx', 'xxx', 'xxxx', 'y', 'yy', 'yyy', 'yyyy', 'z', 'zz', 'zzz', 'zzzz']\n",
    "\n",
    "    ['x', 'y', 'z', 'xx', 'yy', 'zz', 'xx', 'yy', 'zz', 'xxxx', 'yyyy', 'zzzz']\n",
    "    \n",
    "    [[2], [3], [4], [3], [4], [5], [4], [5], [6]]\n",
    "\n",
    "    [[2, 3, 4, 5], [3, 4, 5, 6], [4, 5, 6, 7], [5, 6, 7, 8]]\n",
    "\n",
    "    [(1, 1), (2, 1), (3, 1), (1, 2), (2, 2), (3, 2), (1, 3), (2, 3), (3, 3)]"
   ]
  },
  {
   "cell_type": "code",
   "execution_count": 85,
   "metadata": {},
   "outputs": [
    {
     "name": "stdout",
     "output_type": "stream",
     "text": [
      "['A', 'C', 'A', 'D', 'G', 'I', 'L', 'D']\n",
      "['x', 'xx', 'xxx', 'xxxx', 'y', 'yy', 'yyy', 'yyyy', 'z', 'zz', 'zzz', 'zzzz']\n",
      "['x', 'y', 'z', 'xx', 'yy', 'zz', 'xxx', 'yyy', 'zzz', 'xxxx', 'yyyy', 'zzzz']\n",
      "[[2], [3]]\n"
     ]
    }
   ],
   "source": [
    "str1 = 'ACADGILD'\n",
    "b = [x for x in str1]\n",
    "print(b)\n",
    "\n",
    "str2 = 'xyz'\n",
    "newstr = []\n",
    "count=0\n",
    "str2_out = [str2[count-1]*i for count in range(1,4) for i in range(1,5)]\n",
    "print(str2_out)\n",
    "\n",
    "str3 = 'xyz'\n",
    "newstr3 = []\n",
    "str2_out3 = [str3[i]*j for j in range(1,5) for i in range(0,3) ]\n",
    "print(str2_out3)\n",
    "\n",
    "list = [[2], [3]]\n",
    "print(list)\n",
    "\n"
   ]
  },
  {
   "cell_type": "markdown",
   "metadata": {},
   "source": [
    "Q.4 Implement a function longestWord() that takes a list of words and returns the longest one."
   ]
  },
  {
   "cell_type": "code",
   "execution_count": 13,
   "metadata": {},
   "outputs": [
    {
     "name": "stdout",
     "output_type": "stream",
     "text": [
      "Length : 6 \n",
      "Word : browns \n"
     ]
    }
   ],
   "source": [
    "def longestWord(string):\n",
    "    lencount = 0\n",
    "    len_str = ''\n",
    "    for i in string.split():\n",
    "        if len(i) > lencount:\n",
    "            lencount = len(i)\n",
    "            len_str = i\n",
    "            \n",
    "    print('Length : {} \\nWord : {} '.format(lencount, len_str))\n",
    "\n",
    "str = 'the quick browns fox'\n",
    "longestWord(str)"
   ]
  },
  {
   "cell_type": "markdown",
   "metadata": {},
   "source": [
    "Q.5 Write a Python Program(with class concepts) to find the area of the triangle using the below\n",
    "formula.\n",
    "\n",
    "area = (s*(s-a)*(s-b)*(s-c)) ** 0.5\n",
    "\n",
    "Function to take the length of the sides of triangle from user should be defined in the parent\n",
    "class and function to calculate the area should be defined in subclass."
   ]
  },
  {
   "cell_type": "code",
   "execution_count": 55,
   "metadata": {},
   "outputs": [
    {
     "name": "stdout",
     "output_type": "stream",
     "text": [
      "Area of triangle is 1320.0cm²\n"
     ]
    }
   ],
   "source": [
    "class triangle:\n",
    "     def __init__(self, a, b, c):\n",
    "            self.a = a\n",
    "            self.b = b\n",
    "            self.c =c\n",
    "        \n",
    "class tri_area(triangle):\n",
    "    def area(self):\n",
    "        s = (self.a + self.b + self.c ) / 2\n",
    "        area = ( s * ( s-self.a ) * ( s-self.b) * (s-self.c)) ** 0.5\n",
    "        return area\n",
    "\n",
    "\n",
    "t = tri_area(122, 120, 22)\n",
    "out = t.area()\n",
    "print('Area of triangle is {}cm\\u00B2'.format(out))"
   ]
  },
  {
   "cell_type": "markdown",
   "metadata": {},
   "source": [
    "Q.6 Write a function filter_long_words() that takes a list of words and an integer n and returns the list\n",
    "of words that are longer than n."
   ]
  },
  {
   "cell_type": "code",
   "execution_count": 63,
   "metadata": {},
   "outputs": [
    {
     "name": "stdout",
     "output_type": "stream",
     "text": [
      "Word : ['quick', 'browns'] \n"
     ]
    }
   ],
   "source": [
    "def filter_long_words(string, n):\n",
    "    \n",
    "    len_str = []\n",
    "    for i in string.split():\n",
    "        if len(i) > n:\n",
    "            len_str.append(i)\n",
    "    return len_str   \n",
    "\n",
    "str = 'the quick browns fox! '\n",
    "print('Word : {} '.format(filter_long_words(str, 4)))"
   ]
  },
  {
   "cell_type": "markdown",
   "metadata": {},
   "source": [
    "Q.7 Write a Python program using function concept that maps list of words into a list of integers\n",
    "representing the lengths of the corresponding words.\n",
    "    \n",
    "    Hint: If a list [ ab,cde,erty] is passed on to the python function output should come as [2,3,4]\n",
    "    Here 2,3 and 4 are the lengths of the words in the list."
   ]
  },
  {
   "cell_type": "code",
   "execution_count": 83,
   "metadata": {},
   "outputs": [
    {
     "name": "stdout",
     "output_type": "stream",
     "text": [
      "[2, 3, 4, 6]\n"
     ]
    }
   ],
   "source": [
    "l = ['ab','cde','erty','rtegdb']\n",
    "x = []\n",
    "b = [len(l[i]) for i in range(0, len(l))]\n",
    "print(b)"
   ]
  },
  {
   "cell_type": "markdown",
   "metadata": {},
   "source": [
    "Q.8 Write a Python function which takes a character (i.e. a string of length 1) and returns True if it is\n",
    "a vowel, False otherwise."
   ]
  },
  {
   "cell_type": "code",
   "execution_count": 89,
   "metadata": {},
   "outputs": [
    {
     "name": "stdout",
     "output_type": "stream",
     "text": [
      "True\n"
     ]
    }
   ],
   "source": [
    "vowel = ['i','e','i','o','u']\n",
    "a = 'e'\n",
    "if a in vowel:\n",
    "    print('True')\n",
    "else:\n",
    "    print('False')"
   ]
  },
  {
   "cell_type": "markdown",
   "metadata": {},
   "source": [
    "## Great job!"
   ]
  }
 ],
 "metadata": {
  "kernelspec": {
   "display_name": "Python 3",
   "language": "python",
   "name": "python3"
  },
  "language_info": {
   "codemirror_mode": {
    "name": "ipython",
    "version": 3
   },
   "file_extension": ".py",
   "mimetype": "text/x-python",
   "name": "python",
   "nbconvert_exporter": "python",
   "pygments_lexer": "ipython3",
   "version": "3.6.5"
  }
 },
 "nbformat": 4,
 "nbformat_minor": 2
}
