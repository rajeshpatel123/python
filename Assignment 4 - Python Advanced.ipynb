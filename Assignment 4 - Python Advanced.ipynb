{
 "cells": [
  {
   "cell_type": "markdown",
   "metadata": {},
   "source": [
    "# Assignment 4 Questions"
   ]
  },
  {
   "cell_type": "markdown",
   "metadata": {},
   "source": [
    "## Problem Statement"
   ]
  },
  {
   "cell_type": "markdown",
   "metadata": {},
   "source": [
    "Q.1 Given a sequence of n values x1, x2, ..., xn and a window size k>0, the k-th moving average of\n",
    "the given sequence is defined as follows:\n",
    "\n",
    "The moving average sequence has n-k+1 elements as shown below.\n",
    "The moving averages with k=4 of a ten-value sequence (n=10) is shown below\n",
    "\n",
    "    i 1 2 3 4 5 6 7 8 9 10\n",
    "    ===== == == == == == == == == == ==\n",
    "    Input 10 20 30 40 50 60 70 80 90 100\n",
    "    y1 25 = (10+20+30+40)/4\n",
    "    y2 35 = (20+30+40+50)/4\n",
    "    y3 45 = (30+40+50+60)/4\n",
    "    y4 55 = (40+50+60+70)/4\n",
    "    y5 65 = (50+60+70+80)/4\n",
    "    y6 75 = (60+70+80+90)/4\n",
    "    y7 85 = (70+80+90+100)/4\n",
    "\n",
    "Thus, the moving average sequence has n-k+1=10-4+1=7 values.\n",
    "\n",
    "Write a function to find moving average in an array over a window:\n",
    "\n",
    "Test it over [3, 5, 7, 2, 8, 10, 11, 65, 72, 81, 99, 100, 150] and window of 3."
   ]
  },
  {
   "cell_type": "code",
   "execution_count": 46,
   "metadata": {},
   "outputs": [
    {
     "name": "stdout",
     "output_type": "stream",
     "text": [
      "Array : [3 5 7], Moving Average : 5\n",
      "Array : [5 7 2], Moving Average : 4\n",
      "Array : [7 2 8], Moving Average : 5\n",
      "Array : [ 2  8 10], Moving Average : 6\n",
      "Array : [ 8 10 11], Moving Average : 9\n",
      "Array : [10 11 65], Moving Average : 28\n",
      "Array : [11 65 72], Moving Average : 49\n",
      "Array : [65 72 81], Moving Average : 72\n",
      "Array : [72 81 99], Moving Average : 84\n",
      "Array : [ 81  99 100], Moving Average : 93\n",
      "Array : [ 99 100 150], Moving Average : 116\n"
     ]
    }
   ],
   "source": [
    "import numpy as np\n",
    "k=3\n",
    "narr = np.array([3, 5, 7, 2, 8, 10, 11, 65, 72, 81, 99, 100, 150])\n",
    "n = narr.size\n",
    "val = n-k+1\n",
    "li = []\n",
    "count = val\n",
    "for i in range(0, val):\n",
    "    s = n - count\n",
    "    #print('n = {} count = {} s = {}'.format(n , count, s))\n",
    "    count = count -1\n",
    "    li.append(int(narr[i:s+1].sum()/k))\n",
    "    print('Array : {}, Moving Average : {}'.format(narr[i:s+1],int(narr[i:s+1].sum()/k) ))"
   ]
  },
  {
   "cell_type": "markdown",
   "metadata": {},
   "source": [
    "Q.2 How-to-count-distance-to-the-previous-zero\n",
    "For each value, count the difference back to the previous zero (or the start of the Series,\n",
    "whichever is closer)\n",
    "create a new column 'Y'\n",
    "Consider a DataFrame df where there is an integer column 'X'\n",
    "    \n",
    "    import pandas as pd\n",
    "    df = pd.DataFrame({'X': [7, 2, 0, 3, 4, 2, 5, 0, 3, 4]})"
   ]
  },
  {
   "cell_type": "code",
   "execution_count": 39,
   "metadata": {
    "scrolled": true
   },
   "outputs": [
    {
     "data": {
      "text/plain": [
       "0    1.0\n",
       "1    2.0\n",
       "2    0.0\n",
       "3    1.0\n",
       "4    2.0\n",
       "5    3.0\n",
       "6    4.0\n",
       "7    0.0\n",
       "8    1.0\n",
       "9    2.0\n",
       "Name: z, dtype: float64"
      ]
     },
     "execution_count": 39,
     "metadata": {},
     "output_type": "execute_result"
    }
   ],
   "source": [
    "import numpy as np\n",
    "import pandas as pd\n",
    "df = pd.DataFrame({'X': [7, 2, 0, 3, 4, 2, 5, 0, 3, 4]})\n",
    "df['y'] = (df != 0).cumsum()\n",
    "df['z'] = df['y'] != df['y'].shift()\n",
    "df['z'].groupby((df['z'] != df['z'].shift()).cumsum()).cumsum()"
   ]
  },
  {
   "cell_type": "markdown",
   "metadata": {},
   "source": [
    "Q.3 Create a DatetimeIndex that contains each business day of 2015 and use it to index a Series of\n",
    "random numbers."
   ]
  },
  {
   "cell_type": "code",
   "execution_count": 61,
   "metadata": {},
   "outputs": [
    {
     "name": "stdout",
     "output_type": "stream",
     "text": [
      "DatetimeIndex(['2015-01-01', '2015-01-02', '2015-01-05', '2015-01-06',\n",
      "               '2015-01-07', '2015-01-08', '2015-01-09', '2015-01-12',\n",
      "               '2015-01-13', '2015-01-14', '2015-01-15', '2015-01-16',\n",
      "               '2015-01-19', '2015-01-20', '2015-01-21', '2015-01-22',\n",
      "               '2015-01-23', '2015-01-26', '2015-01-27', '2015-01-28',\n",
      "               '2015-01-29', '2015-01-30'],\n",
      "              dtype='datetime64[ns]', freq='B')\n"
     ]
    }
   ],
   "source": [
    "import pandas as pd\n",
    "import numpy as np\n",
    "\n",
    "df = pd.bdate_range('2015-01-01', '2015-01-31')\n",
    "print(df)"
   ]
  },
  {
   "cell_type": "markdown",
   "metadata": {},
   "source": [
    "Q.4 "
   ]
  }
 ],
 "metadata": {
  "kernelspec": {
   "display_name": "Python 3",
   "language": "python",
   "name": "python3"
  },
  "language_info": {
   "codemirror_mode": {
    "name": "ipython",
    "version": 3
   },
   "file_extension": ".py",
   "mimetype": "text/x-python",
   "name": "python",
   "nbconvert_exporter": "python",
   "pygments_lexer": "ipython3",
   "version": "3.7.3"
  }
 },
 "nbformat": 4,
 "nbformat_minor": 2
}
